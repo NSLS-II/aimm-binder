{
 "cells": [
  {
   "cell_type": "markdown",
   "id": "fourth-active",
   "metadata": {},
   "source": [
    "# BMM Example"
   ]
  },
  {
   "cell_type": "code",
   "execution_count": null,
   "id": "measured-jimmy",
   "metadata": {},
   "outputs": [],
   "source": [
    "import databroker.tutorial_utils\n",
    "\n",
    "catalog = databroker.tutorial_utils.fetch_BMM_example()"
   ]
  },
  {
   "cell_type": "code",
   "execution_count": null,
   "id": "dependent-friendly",
   "metadata": {},
   "outputs": [],
   "source": [
    "run = catalog[-1]\n",
    "run"
   ]
  },
  {
   "cell_type": "code",
   "execution_count": null,
   "id": "vocational-boundary",
   "metadata": {},
   "outputs": [],
   "source": [
    "run.primary.read()"
   ]
  },
  {
   "cell_type": "code",
   "execution_count": null,
   "id": "changed-seeker",
   "metadata": {},
   "outputs": [],
   "source": [
    "%matplotlib widget"
   ]
  },
  {
   "cell_type": "code",
   "execution_count": null,
   "id": "authorized-minneapolis",
   "metadata": {},
   "outputs": [],
   "source": [
    "run.primary.read().plot.scatter(y=\"It\", x=\"dcm_energy\")"
   ]
  }
 ],
 "metadata": {
  "kernelspec": {
   "display_name": "Python 3",
   "language": "python",
   "name": "python3"
  },
  "language_info": {
   "codemirror_mode": {
    "name": "ipython",
    "version": 3
   },
   "file_extension": ".py",
   "mimetype": "text/x-python",
   "name": "python",
   "nbconvert_exporter": "python",
   "pygments_lexer": "ipython3",
   "version": "3.7.9"
  }
 },
 "nbformat": 4,
 "nbformat_minor": 5
}
